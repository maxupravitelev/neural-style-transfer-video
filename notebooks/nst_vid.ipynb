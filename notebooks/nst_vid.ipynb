{
  "cells": [
    {
      "cell_type": "markdown",
      "metadata": {
        "id": "6_fJup0eKwdH"
      },
      "source": [
        "# How-To\n",
        "\n",
        "instructions coming soon"
      ]
    },
    {
      "cell_type": "code",
      "execution_count": null,
      "metadata": {
        "cellView": "form",
        "id": "X9uqTXA-guxV"
      },
      "outputs": [],
      "source": [
        "#@title Setup the app\n",
        "# install packages\n",
        "!pip install tensorflow\n",
        "!pip install opencv-python\n",
        "!pip install tensorflow_hub\n",
        "!pip install matplotlib\n",
        "!pip install numpy\n",
        "!pip install Pillow\n",
        "\n",
        "# download tf model\n",
        "!curl -L https://tfhub.dev/google/magenta/arbitrary-image-stylization-v1-256/2?tf-hub-format=compressed --output model.tar.gz\n",
        "!mkdir tf_model\n",
        "!tar -xf model.tar.gz -C tf_model/\n",
        "\n",
        "# clone project repo from github\n",
        "!mkdir repo\n",
        "!git clone https://github.com/maxupravitelev/neural-style-transfer-video.git ./repo\n",
        "!cp -R repo/modules modules"
      ]
    },
    {
      "cell_type": "markdown",
      "metadata": {
        "id": "qbfscJz8zAB_"
      },
      "source": [
        "The output video files have a rather low resolution, due to how the actual neural style transfer is handled. You can upscale the video files either by simple upscaling or by utilizing the [Image Super Resolution](https://github.com/idealo/image-super-resolution) package. If you want to use the latter, please run the cell below and click on \"Restart Runtime\" once it's done."
      ]
    },
    {
      "cell_type": "code",
      "execution_count": null,
      "metadata": {
        "cellView": "form",
        "id": "DuDJ44JdzDk6"
      },
      "outputs": [],
      "source": [
        "#@title Optional: Install the Image Super Resolution package\n",
        "!pip install ISR\n",
        "!pip install 'h5py==2.10.0' --force-reinstall"
      ]
    },
    {
      "cell_type": "code",
      "execution_count": null,
      "metadata": {
        "cellView": "form",
        "id": "w9qX1X4Kh26u"
      },
      "outputs": [],
      "source": [
        "#@title Run the app\n",
        "from modules.FrameExtractor import FrameExtractor\n",
        "from modules.NeuralStyleTransferHandler import NeuralStyleTransferHandler\n",
        "from modules.ImageResizer import ImageResizer\n",
        "from modules.FrameCombiner import FrameCombiner\n",
        "\n",
        "import logging\n",
        "import os\n",
        "\n",
        "logging.basicConfig(level=logging.DEBUG, datefmt='%Y-%m-%d:%H:%M:%S', format='%(asctime)s | %(levelname)s | %(name)s | LINE %(lineno)d: %(message)s')\n",
        "log = logging.getLogger(__name__)\n",
        "log.debug('Logging initialized')\n",
        "\n",
        "\n",
        "input_file_path = \"testvid.mp4\" #@param {type:\"string\"}\n",
        "filter_path = \"cam0.jpg\" #@param {type:\"string\"}\n",
        "output_max_size = 512 #@param {type:\"number\"}\n",
        "resize_factor = 2 #@param {type:\"number\"}\n",
        "use_superres = True #@param {type:\"boolean\"}\n",
        "\n",
        "\n",
        "def main():\n",
        "\n",
        "    # extract frames in folder\n",
        "    extracted_frames_path, input_video_filename = FrameExtractor(input_file_path).extract_frames()\n",
        "\n",
        "    # nst all frames in folder\n",
        "    styled_frames_path = NeuralStyleTransferHandler(extracted_frames_path, input_video_filename, output_max_size).stylize_batch('stylize_by_filter', filter_path)\n",
        "\n",
        "    # optional: resize all frames in folder\n",
        "    if resize_factor is not 1:\n",
        "        if use_superres is True:\n",
        "            resized_frames_path = ImageResizer(styled_frames_path, input_video_filename).resize_superres(resize_factor)\n",
        "            styled_frames_path = resized_frames_path\n",
        "        else:\n",
        "            resized_frames_path = ImageResizer(styled_frames_path, input_video_filename).resize(resize_factor)\n",
        "            styled_frames_path = resized_frames_path\n",
        "\n",
        "\n",
        "    # combine all frames in video file\n",
        "    output_video_path = FrameCombiner(styled_frames_path, input_video_filename).combine_frames(filter_path)\n",
        "\n",
        "main()\n"
      ]
    },
    {
      "cell_type": "code",
      "execution_count": null,
      "metadata": {
        "cellView": "form",
        "id": "k4X_UyJ4p0H6"
      },
      "outputs": [],
      "source": [
        "#@title Download all output as a zip file\n",
        "!zip -r ./output.zip ./output\n",
        "\n",
        "from google.colab import files\n",
        "files.download(\"output.zip\")"
      ]
    },
    {
      "cell_type": "code",
      "execution_count": null,
      "metadata": {
        "cellView": "form",
        "id": "p-plGoNvkn2L"
      },
      "outputs": [],
      "source": [
        "#@title Remove output folder\n",
        "%rm -r output"
      ]
    }
  ],
  "metadata": {
    "colab": {
      "name": "nst-vid.ipynb",
      "provenance": []
    },
    "kernelspec": {
      "display_name": "Python 3",
      "name": "python3"
    },
    "language_info": {
      "name": "python"
    }
  },
  "nbformat": 4,
  "nbformat_minor": 0
}